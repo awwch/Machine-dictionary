{
 "cells": [
  {
   "cell_type": "code",
   "execution_count": 1360,
   "metadata": {
    "collapsed": true
   },
   "outputs": [],
   "source": [
    "import re"
   ]
  },
  {
   "cell_type": "code",
   "execution_count": 1361,
   "metadata": {
    "collapsed": false
   },
   "outputs": [],
   "source": [
    "with open('BTS_original.txt', 'r', encoding='utf-8') as f:\n",
    "    test = f.readlines() "
   ]
  },
  {
   "cell_type": "code",
   "execution_count": 1362,
   "metadata": {
    "collapsed": true
   },
   "outputs": [],
   "source": [
    "strong_tags = ['l','~','v','z','}','{','|'] #подчиняют целые блоки\n",
    "middle_tags = ['M','N','O','Б','a','d','e','h','j','t','u','w','x','y','п','\\\\'] #подчиняют некоторые тэги\n",
    "humble_tags = ['B','C','D','E','F','G','H','I','J','K','L','P','Q','R','S','T','U','V','W','Y','Z','b','c','g',\n",
    "               'i','k','o','q','r','s','[','_','^','\\'','`','m','n'] #ничего не подчиняют\n",
    "obeying_tags = ['f','p'] #всегда подчиняются предыдущему тэгу\n",
    "\n",
    "#надо доработать тэги @m и @n"
   ]
  },
  {
   "cell_type": "markdown",
   "metadata": {},
   "source": [
    "### На строке открываем и закрываем каждый тэг. Случай @A прорабатываем отдельно"
   ]
  },
  {
   "cell_type": "code",
   "execution_count": 1363,
   "metadata": {
    "collapsed": false
   },
   "outputs": [],
   "source": [
    "bag_with_BTS = []\n",
    "for line in test:\n",
    "    line =  re.sub('@.', '<' + line[0:2] + '>', line) #открываем тэг\n",
    "    #line =  re.sub('<\\~>','', line)\n",
    "    if line[1:3] != '@A' and line not in ['\\n', '\\r\\n']:\n",
    "        line = (line + '<\\\\'  + line[1:3] + '>' + '\\n') #закрываем тэг, если это не @A (с ним работаем отдельно)\n",
    "    bag_with_BTS.append(line) "
   ]
  },
  {
   "cell_type": "markdown",
   "metadata": {},
   "source": [
    "### Корректируем закрытие тэгов группы middle"
   ]
  },
  {
   "cell_type": "code",
   "execution_count": 1364,
   "metadata": {
    "collapsed": false
   },
   "outputs": [],
   "source": [
    "#список тэгов, подчиняемых данным\n",
    "middle_dependeny = {\n",
    "            'M': ('I'),\n",
    "            'N': ('c'),\n",
    "            'O': ('x'),\n",
    "            'Б': ('п','y'),\n",
    "            'a': ('t'),\n",
    "            'd': ('e'),\n",
    "            'e': ('f','g'),\n",
    "            'h': ('i','j', 'k'),\n",
    "            'j': ('i','k'),\n",
    "            't': ('y'),\n",
    "            'u': ('D','E','I','J','K','L','N','O','R','S','A','B','F','H','a','b','e','q','r','\\\\','_'),\n",
    "            'w': ('p','x','Б'),\n",
    "            'x': ('w'),\n",
    "            'y': ('x'),\n",
    "            'п': ('Б'),\n",
    "            '\\\\': ('P')}\n",
    "\n",
    "for i, line in enumerate(bag_with_BTS):\n",
    "    cur_tag = line[2:3]\n",
    "    if cur_tag in middle_tags and bag_with_BTS[i+1] not in ['\\n', '\\r\\n']:\n",
    "        #смотрим, подчиняется ли следующий тэг текущему\n",
    "        if bag_with_BTS[i+1][2:3] in middle_dependeny[cur_tag]:\n",
    "            #убираем закрытие middle тэга на его собственной строке\n",
    "            bag_with_BTS[i] =  re.sub('<...>' ,'', bag_with_BTS[i])  \n",
    "            #закрываем на строке подчиняющегося тэга\n",
    "            bag_with_BTS[i+1] = (bag_with_BTS[i+1] + '<\\\\@'  + cur_tag + '>' + '\\n') \n",
    "        else: pass\n",
    "    else:\n",
    "        pass"
   ]
  },
  {
   "cell_type": "markdown",
   "metadata": {},
   "source": [
    "#### Особые случаи ( w + x + w )       и        ( x + w + x ), обработка которых может подвергаться изменениям"
   ]
  },
  {
   "cell_type": "code",
   "execution_count": 1365,
   "metadata": {
    "collapsed": false
   },
   "outputs": [],
   "source": [
    "for i, line in enumerate(bag_with_BTS):\n",
    "    cur_tag = line[2:3]\n",
    "    if cur_tag == 'w' and bag_with_BTS[i+1][2:3] == 'x' and bag_with_BTS[i+2][2:3] == 'w':\n",
    "        bag_with_BTS[i+1] = (bag_with_BTS[i+1] + '\\n' + '<\\@x>')\n",
    "        bag_with_BTS[i+2] = re.sub('<.@x>' ,'', bag_with_BTS[i+2]) \n",
    "        \n",
    "for i, line in enumerate(bag_with_BTS):\n",
    "    cur_tag = line[2:3]\n",
    "    if cur_tag == 'x' and bag_with_BTS[i+1][2:3] == 'w' and bag_with_BTS[i+2][2:3] == 'x':\n",
    "        bag_with_BTS[i+1] = (bag_with_BTS[i+1] + '\\n' + '<\\@w>')\n",
    "        bag_with_BTS[i+2] = re.sub('<.@w>' ,'', bag_with_BTS[i+2])\n",
    "        bag_with_BTS[i+2] = (bag_with_BTS[i+2] + '<\\@x>' + '\\n')"
   ]
  },
  {
   "cell_type": "markdown",
   "metadata": {},
   "source": [
    "### Корректируем закрытие тэгов группы strong"
   ]
  },
  {
   "cell_type": "code",
   "execution_count": 1366,
   "metadata": {
    "collapsed": false,
    "scrolled": false
   },
   "outputs": [],
   "source": [
    "#сильный тэг подчиняет весь блок вплоть до следующих тэгов\n",
    "strong_dependeny = {\n",
    "            'l': ('l'),\n",
    "            '~': ('l','v', '~'),\n",
    "            'v': ('l','v', '~'),\n",
    "            'z': ('l','v','~','z'),\n",
    "            '}': ('l','v','~','}'),\n",
    "            '{': ('l','v','~','z','}','{'),\n",
    "            '|': ('l','v','~','z','{','|','}')}\n",
    "\n",
    "j=0   \n",
    "for i, line in enumerate(bag_with_BTS):\n",
    "    cur_tag = line[2:3]\n",
    "    if cur_tag in strong_tags:\n",
    "        j=i\n",
    "        #смотрим каждый следующий тэг, пока не дойдем до того места, где заканчивается блок\n",
    "        while bag_with_BTS[j+1][2:3] not in strong_dependeny[cur_tag]  and bag_with_BTS[j+1] not in ['\\n', '\\r\\n'] and (j+2) != len(bag_with_BTS):\n",
    "            j = j+1 \n",
    "        #закрываем strong тэг на строке подчиняющегося тэга \n",
    "        bag_with_BTS[i] =  re.sub('<...>' ,'', bag_with_BTS[i])\n",
    "        bag_with_BTS[j] = (bag_with_BTS[j] + '<\\\\@'  + cur_tag + '>' + '\\n')\n",
    "    else:\n",
    "        pass \n",
    "\n",
    "for i,line in enumerate(bag_with_BTS):\n",
    "    if line in ['\\n', '\\r\\n']:\n",
    "        bag_with_BTS[i-1] = (bag_with_BTS[i-1] + '<\\@A>' + '\\n') #закрываем тэг @A"
   ]
  },
  {
   "cell_type": "markdown",
   "metadata": {},
   "source": [
    "#### Если strong тэги закрываются на одной строке, расставим их в правильном порядке"
   ]
  },
  {
   "cell_type": "code",
   "execution_count": 1367,
   "metadata": {
    "collapsed": false
   },
   "outputs": [],
   "source": [
    "strong_tags = ['l','~','v','z','}','{','|']\n",
    "\n",
    "for i, line in enumerate(bag_with_BTS):\n",
    "    #проходим по всем сильным тэгам\n",
    "    for j in range(len(strong_tags)):\n",
    "        #фиксируем сильный тэг, который сейчас ищем\n",
    "        cur_tag = strong_tags[j] \n",
    "        if ('<\\\\@' + cur_tag + '>') in bag_with_BTS[i]:\n",
    "            #фиксируем его позицию в строке\n",
    "            index = strong_tags.index(cur_tag)\n",
    "            index_next = index + 1\n",
    "            #смотрим каждый следующий тэг, пока не дойдем до того места, где стоит более слабый тэг\n",
    "            if index_next < 7:\n",
    "                while strong_tags[index_next] not in bag_with_BTS[i] and index_next != 6:\n",
    "                    index_next = index_next +1\n",
    "                if index_next != 6:\n",
    "                    #меняем их местами\n",
    "                    bag_with_BTS[i] = bag_with_BTS[i].replace('<\\\\@'+ strong_tags[index+1] +'>', '<\\\\@' + cur_tag + '>')\n",
    "                    bag_with_BTS[i] = bag_with_BTS[i].replace( '<\\\\@' + cur_tag + '>', '<\\\\@'+ strong_tags[index+1] +'>', 1)\n",
    "                else: \n",
    "                    pass\n",
    "            else:\n",
    "                pass\n",
    "        else:\n",
    "            pass"
   ]
  },
  {
   "cell_type": "markdown",
   "metadata": {},
   "source": [
    "### Добавим правило для случаев во скобками, когда один простой тэг может подчинять целый блок"
   ]
  },
  {
   "cell_type": "code",
   "execution_count": 1368,
   "metadata": {
    "collapsed": false,
    "scrolled": false
   },
   "outputs": [],
   "source": [
    "sign = ['(','[']\n",
    "sign_dependeny = {\n",
    "            '(': (')'),\n",
    "            '[': (']')}\n",
    "\n",
    "\n",
    "for i, line in enumerate(bag_with_BTS):\n",
    "    cur_tag = line[2:3]\n",
    "    #проверяем, если ли в строке ( или [, но не трогаем случаи, когда скобки открываются и закрываются на одной строке\n",
    "    if line[5:6] in sign and sign_dependeny[line[5:6]] not in line: \n",
    "        cur_sign = line[5:6] \n",
    "        j=i\n",
    "        #смотрим каждую следующую строку, пока не найдем закрытие скобки\n",
    "        while sign_dependeny[cur_sign] not in bag_with_BTS[j]:\n",
    "            j = j+1\n",
    "        #делаем так, чтобы тэг закрывался в нужном месте: убираем его закрытие на прежнем месте\n",
    "        bag_with_BTS[i] =  re.sub('<.@'  + cur_tag + '>','', bag_with_BTS[i])\n",
    "        #закрываем его на строке, где закрывается скобка\n",
    "        if ('<\\\\@'  + cur_tag + '>') not in bag_with_BTS[j]:\n",
    "            bag_with_BTS[j] = (bag_with_BTS[j] + '<\\\\@'  + cur_tag + '>' + '\\n')\n",
    "        else:\n",
    "            pass\n",
    "        #убираем его на предыдущих строках, если есть\n",
    "        while i+1<j:\n",
    "            bag_with_BTS[j-1] =  re.sub('<.@'  + cur_tag + '>' ,'', bag_with_BTS[j-1])\n",
    "            j=j-1\n",
    "    else:\n",
    "        pass\n",
    "\n",
    "    \n",
    "#for i in bag_with_BTS:\n",
    "    #print(i) "
   ]
  },
  {
   "cell_type": "markdown",
   "metadata": {},
   "source": [
    "### Записываем БТС с иерархией в конечный файл"
   ]
  },
  {
   "cell_type": "code",
   "execution_count": 1369,
   "metadata": {
    "collapsed": false
   },
   "outputs": [],
   "source": [
    "with open('Hierarchy in BTS.txt', 'w', encoding = 'utf-8') as f:\n",
    "     for line in bag_with_BTS:\n",
    "            f.write(line)"
   ]
  },
  {
   "cell_type": "code",
   "execution_count": null,
   "metadata": {
    "collapsed": true
   },
   "outputs": [],
   "source": []
  }
 ],
 "metadata": {
  "kernelspec": {
   "display_name": "Python 3",
   "language": "python",
   "name": "python3"
  },
  "language_info": {
   "codemirror_mode": {
    "name": "ipython",
    "version": 3
   },
   "file_extension": ".py",
   "mimetype": "text/x-python",
   "name": "python",
   "nbconvert_exporter": "python",
   "pygments_lexer": "ipython3",
   "version": "3.5.1"
  }
 },
 "nbformat": 4,
 "nbformat_minor": 0
}
